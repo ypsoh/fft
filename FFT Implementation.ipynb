{
 "cells": [
  {
   "cell_type": "code",
   "execution_count": 1,
   "metadata": {},
   "outputs": [],
   "source": [
    "import numpy as np\n",
    "from numpy.fft import fft, ifft\n",
    "from math import pi"
   ]
  },
  {
   "cell_type": "code",
   "execution_count": 21,
   "metadata": {},
   "outputs": [],
   "source": [
    "def zero_pad_to_nearest_n_square(a):\n",
    "    return np.pad(a, (0, int(2**np.ceil(np.log2(len(a))) - len(a))), 'constant')"
   ]
  },
  {
   "cell_type": "code",
   "execution_count": 22,
   "metadata": {},
   "outputs": [],
   "source": [
    "def discrete_fourier_transform(x):\n",
    "    N = len(x)\n",
    "    n = np.arange(N)\n",
    "    F = np.exp(-2j * pi * n.reshape((N, 1)) * n / N)\n",
    "    return np.dot(F, x)"
   ]
  },
  {
   "cell_type": "code",
   "execution_count": 25,
   "metadata": {},
   "outputs": [],
   "source": [
    "def fast_fourier_transform(x):\n",
    "    N = len(x)\n",
    "    if N <= 4:\n",
    "        return discrete_fourier_transform(x)\n",
    "    X_even = fast_fourier_transform(x[::2])\n",
    "    X_odd = fast_fourier_transform(x[1::2])\n",
    "    \n",
    "    factor = np.exp(-2j * np.pi * np.arange(N) / N)\n",
    "    return np.concatenate([X_even + factor[:int(N/2)] * X_odd,\n",
    "                           X_even + factor[int(N/2):] * X_odd])\n"
   ]
  },
  {
   "cell_type": "code",
   "execution_count": 26,
   "metadata": {},
   "outputs": [
    {
     "data": {
      "text/plain": [
       "True"
      ]
     },
     "execution_count": 26,
     "metadata": {},
     "output_type": "execute_result"
    }
   ],
   "source": [
    "a = np.random.random(960)\n",
    "np.allclose(fast_fourier_transform(zero_pad_to_nearest_n_square(a)), fft(zero_pad_to_nearest_n_square(a)))"
   ]
  },
  {
   "cell_type": "code",
   "execution_count": 27,
   "metadata": {},
   "outputs": [
    {
     "data": {
      "text/plain": [
       "True"
      ]
     },
     "execution_count": 27,
     "metadata": {},
     "output_type": "execute_result"
    }
   ],
   "source": [
    "a = np.random.random(1000)\n",
    "np.allclose(discrete_fourier_transform(zero_pad_to_nearest_n_square(a)), fft(zero_pad_to_nearest_n_square(a)))"
   ]
  },
  {
   "cell_type": "code",
   "execution_count": 28,
   "metadata": {},
   "outputs": [
    {
     "name": "stdout",
     "output_type": "stream",
     "text": [
      "4.81 ms ± 14.6 µs per loop (mean ± std. dev. of 7 runs, 100 loops each)\n",
      "61.1 ms ± 1.74 ms per loop (mean ± std. dev. of 7 runs, 10 loops each)\n",
      "13.4 µs ± 18.8 ns per loop (mean ± std. dev. of 7 runs, 100000 loops each)\n"
     ]
    }
   ],
   "source": [
    "a = zero_pad_to_nearest_n_square(a)\n",
    "%timeit fast_fourier_transform(a)\n",
    "%timeit discrete_fourier_transform(a)\n",
    "%timeit np.fft.fft(a)"
   ]
  }
 ],
 "metadata": {
  "kernelspec": {
   "display_name": "Python 3",
   "language": "python",
   "name": "python3"
  },
  "language_info": {
   "codemirror_mode": {
    "name": "ipython",
    "version": 3
   },
   "file_extension": ".py",
   "mimetype": "text/x-python",
   "name": "python",
   "nbconvert_exporter": "python",
   "pygments_lexer": "ipython3",
   "version": "3.6.8"
  }
 },
 "nbformat": 4,
 "nbformat_minor": 2
}
